{
 "cells": [
  {
   "cell_type": "markdown",
   "metadata": {
    "application/vnd.databricks.v1+cell": {
     "cellMetadata": {},
     "inputWidgets": {},
     "nuid": "c6392ea5-b969-43c7-974e-48e69eb9fe7d",
     "showTitle": false,
     "tableResultSettingsMap": {},
     "title": ""
    }
   },
   "source": [
    "# Uso práctico de Spark\n"
   ]
  },
  {
   "cell_type": "code",
   "execution_count": 0,
   "metadata": {
    "application/vnd.databricks.v1+cell": {
     "cellMetadata": {
      "byteLimit": 2048000,
      "rowLimit": 10000
     },
     "inputWidgets": {},
     "nuid": "ed8cc4db-1638-4002-97f1-978fe12cae49",
     "showTitle": false,
     "tableResultSettingsMap": {},
     "title": ""
    }
   },
   "outputs": [],
   "source": [
    "from pyspark.sql import functions as f"
   ]
  },
  {
   "cell_type": "markdown",
   "metadata": {
    "application/vnd.databricks.v1+cell": {
     "cellMetadata": {},
     "inputWidgets": {},
     "nuid": "ff5a4d21-9bac-4334-b32f-91c609f01d33",
     "showTitle": false,
     "tableResultSettingsMap": {},
     "title": ""
    }
   },
   "source": [
    "## 1 - Carga de datos\n",
    "\n",
    "Lea los datos dispoibles en la siguiente ubicación:"
   ]
  },
  {
   "cell_type": "code",
   "execution_count": 0,
   "metadata": {
    "application/vnd.databricks.v1+cell": {
     "cellMetadata": {
      "byteLimit": 2048000,
      "rowLimit": 10000
     },
     "inputWidgets": {},
     "nuid": "93389333-823b-4e23-a884-eb01f1faf779",
     "showTitle": false,
     "tableResultSettingsMap": {},
     "title": ""
    }
   },
   "outputs": [],
   "source": [
    "df = spark.read.format(\"json\").load(\"wasbs://sid@yjtgeneral.blob.core.windows.net/cafeteria\")\n",
    "\n",
    "df.printSchema()"
   ]
  },
  {
   "cell_type": "markdown",
   "metadata": {
    "application/vnd.databricks.v1+cell": {
     "cellMetadata": {},
     "inputWidgets": {},
     "nuid": "cf168120-4fe3-4bb4-98d8-76c1c7defdd1",
     "showTitle": false,
     "tableResultSettingsMap": {},
     "title": ""
    }
   },
   "source": [
    "Si conocemos el esquema podemos fijarlo nosotros mismos"
   ]
  },
  {
   "cell_type": "code",
   "execution_count": 0,
   "metadata": {
    "application/vnd.databricks.v1+cell": {
     "cellMetadata": {
      "byteLimit": 2048000,
      "rowLimit": 10000
     },
     "inputWidgets": {},
     "nuid": "b70b64a4-a79e-4214-9b72-5e766ce3c4fa",
     "showTitle": false,
     "tableResultSettingsMap": {},
     "title": ""
    }
   },
   "outputs": [],
   "source": [
    "from pyspark.sql.types import StructType, StructField, StringType, LongType, BooleanType, ArrayType\n",
    "\n",
    "schema = StructType([\n",
    "    StructField(\"paid\", StructType([\n",
    "        StructField(\"createdOn\", StringType(), True),\n",
    "        StructField(\"paymentMethodValue\", ArrayType(\n",
    "            StructType([\n",
    "                StructField(\"_id\", StringType(), True),\n",
    "                StructField(\"approbationNumber\", StringType(), True),\n",
    "                StructField(\"cashBox\", StringType(), True),\n",
    "                StructField(\"createdOn\", StringType(), True),\n",
    "                StructField(\"internalId\", StringType(), True),\n",
    "                StructField(\"paymentMethod\", StringType(), True),\n",
    "                StructField(\"tip\", LongType(), True),\n",
    "                StructField(\"value\", LongType(), True)\n",
    "            ])\n",
    "        ), True)\n",
    "    ]), True),\n",
    "    StructField(\"products\", ArrayType(\n",
    "        StructType([\n",
    "            StructField(\"_id\", StringType(), True),\n",
    "            StructField(\"avgCost\", LongType(), True),\n",
    "            StructField(\"categoryId\", StringType(), True),\n",
    "            StructField(\"categoryName\", StringType(), True),\n",
    "            StructField(\"name\", StringType(), True),\n",
    "            StructField(\"price\", LongType(), True),\n",
    "            StructField(\"quantity\", LongType(), True),\n",
    "            StructField(\"total\", LongType(), True)\n",
    "        ])\n",
    "    ), True),\n",
    "    StructField(\"table\", StructType([\n",
    "        StructField(\"idInternal\", StringType(), True),\n",
    "        StructField(\"name\", StringType(), True)\n",
    "    ]), True)\n",
    "])\n",
    "\n",
    "df = spark.read.format(\"json\") \\\n",
    "    .schema(schema) \\\n",
    "    .load(\"wasbs://sid@yjtgeneral.blob.core.windows.net/cafeteria\")"
   ]
  },
  {
   "cell_type": "markdown",
   "metadata": {
    "application/vnd.databricks.v1+cell": {
     "cellMetadata": {},
     "inputWidgets": {},
     "nuid": "38ead8ae-4ba7-4780-8b15-eb20eb87e9ce",
     "showTitle": false,
     "tableResultSettingsMap": {},
     "title": ""
    }
   },
   "source": [
    "El esquema puede inferirse de una muestra de los datos con  `samplingRatio`"
   ]
  },
  {
   "cell_type": "code",
   "execution_count": 0,
   "metadata": {
    "application/vnd.databricks.v1+cell": {
     "cellMetadata": {
      "byteLimit": 2048000,
      "rowLimit": 10000
     },
     "inputWidgets": {},
     "nuid": "f833928e-9328-4c25-b8fa-65d7937f4e60",
     "showTitle": false,
     "tableResultSettingsMap": {},
     "title": ""
    }
   },
   "outputs": [],
   "source": [
    "df = spark.read.format(\"json\").option(\"samplingRatio\", 0.1).load(\"wasbs://sid@yjtgeneral.blob.core.windows.net/cafeteria\")"
   ]
  },
  {
   "cell_type": "markdown",
   "metadata": {
    "application/vnd.databricks.v1+cell": {
     "cellMetadata": {},
     "inputWidgets": {},
     "nuid": "e7c0adb9-5587-4891-bca6-34f55605b94d",
     "showTitle": false,
     "tableResultSettingsMap": {},
     "title": ""
    }
   },
   "source": [
    "## 2 - Exploración"
   ]
  },
  {
   "cell_type": "markdown",
   "metadata": {
    "application/vnd.databricks.v1+cell": {
     "cellMetadata": {},
     "inputWidgets": {},
     "nuid": "3c3759f2-1249-4649-98e5-63e398751d4b",
     "showTitle": false,
     "tableResultSettingsMap": {},
     "title": ""
    }
   },
   "source": [
    "Imprimir el esquema"
   ]
  },
  {
   "cell_type": "code",
   "execution_count": 0,
   "metadata": {
    "application/vnd.databricks.v1+cell": {
     "cellMetadata": {
      "byteLimit": 2048000,
      "rowLimit": 10000
     },
     "inputWidgets": {},
     "nuid": "003799da-5dde-4a2b-bcad-0c9f05a43b66",
     "showTitle": false,
     "tableResultSettingsMap": {},
     "title": ""
    }
   },
   "outputs": [],
   "source": [
    "df.printSchema()"
   ]
  },
  {
   "cell_type": "markdown",
   "metadata": {
    "application/vnd.databricks.v1+cell": {
     "cellMetadata": {},
     "inputWidgets": {},
     "nuid": "815cf860-159f-4100-a44b-34f14ac53d45",
     "showTitle": false,
     "tableResultSettingsMap": {},
     "title": ""
    }
   },
   "source": [
    "Contar el número total de registros"
   ]
  },
  {
   "cell_type": "code",
   "execution_count": 0,
   "metadata": {
    "application/vnd.databricks.v1+cell": {
     "cellMetadata": {
      "byteLimit": 2048000,
      "rowLimit": 10000
     },
     "inputWidgets": {},
     "nuid": "bd557412-9ca6-4c4d-941a-a941f6cbeda2",
     "showTitle": false,
     "tableResultSettingsMap": {},
     "title": ""
    }
   },
   "outputs": [],
   "source": [
    "df.count()"
   ]
  },
  {
   "cell_type": "markdown",
   "metadata": {
    "application/vnd.databricks.v1+cell": {
     "cellMetadata": {},
     "inputWidgets": {},
     "nuid": "9e41d40a-1834-4d55-b759-75bbd8e1975d",
     "showTitle": false,
     "tableResultSettingsMap": {},
     "title": ""
    }
   },
   "source": [
    "Visualizar las primeras filas"
   ]
  },
  {
   "cell_type": "code",
   "execution_count": 0,
   "metadata": {
    "application/vnd.databricks.v1+cell": {
     "cellMetadata": {
      "byteLimit": 2048000,
      "rowLimit": 10000
     },
     "inputWidgets": {},
     "nuid": "f2f90f8b-14ad-4f92-ae9e-f9463534fff2",
     "showTitle": false,
     "tableResultSettingsMap": {},
     "title": ""
    }
   },
   "outputs": [],
   "source": [
    "display(df)"
   ]
  },
  {
   "cell_type": "markdown",
   "metadata": {
    "application/vnd.databricks.v1+cell": {
     "cellMetadata": {},
     "inputWidgets": {},
     "nuid": "bfe8514b-e658-4083-a2ad-697e8c7f1cb0",
     "showTitle": false,
     "tableResultSettingsMap": {},
     "title": ""
    }
   },
   "source": [
    "## Filtros, agregaciones y casts"
   ]
  },
  {
   "cell_type": "markdown",
   "metadata": {
    "application/vnd.databricks.v1+cell": {
     "cellMetadata": {},
     "inputWidgets": {},
     "nuid": "82d74295-0a8e-44bf-a82f-1cbbcecff18b",
     "showTitle": false,
     "tableResultSettingsMap": {},
     "title": ""
    }
   },
   "source": [
    "Crear un DataFrame de ventas a nivel de producto utilizando `explode()`"
   ]
  },
  {
   "cell_type": "code",
   "execution_count": 0,
   "metadata": {
    "application/vnd.databricks.v1+cell": {
     "cellMetadata": {
      "byteLimit": 2048000,
      "rowLimit": 10000
     },
     "inputWidgets": {},
     "nuid": "973dfb08-593c-4c01-8e6c-9a374b2f085d",
     "showTitle": false,
     "tableResultSettingsMap": {},
     "title": ""
    }
   },
   "outputs": [],
   "source": [
    "\n",
    "ventas = (\n",
    "    df.select(\n",
    "        f.to_date(\"paid.createdOn\").alias(\"fecha\"),\n",
    "        f.explode(\"products\").alias(\"producto\")\n",
    "    )\n",
    "    .withColumn(\"producto_id\", f.col(\"producto._id\"))\n",
    "    .withColumn(\"producto_name\", f.col(\"producto.name\"))\n",
    "    .withColumn(\"producto_quantity\", f.col(\"producto.quantity\"))\n",
    "    .withColumn(\"producto_price\", f.col(\"producto.price\"))\n",
    "    .drop(\"producto\")\n",
    ")"
   ]
  },
  {
   "cell_type": "markdown",
   "metadata": {
    "application/vnd.databricks.v1+cell": {
     "cellMetadata": {},
     "inputWidgets": {},
     "nuid": "83ed7321-8443-43f2-95e0-a9735deb01bc",
     "showTitle": false,
     "tableResultSettingsMap": {},
     "title": ""
    }
   },
   "source": [
    "Calcular cuál fue el valor vendido de cada producto"
   ]
  },
  {
   "cell_type": "code",
   "execution_count": 0,
   "metadata": {
    "application/vnd.databricks.v1+cell": {
     "cellMetadata": {
      "byteLimit": 2048000,
      "rowLimit": 10000
     },
     "inputWidgets": {},
     "nuid": "e4d4716d-f721-43ad-809a-b8b9f4f772ea",
     "showTitle": false,
     "tableResultSettingsMap": {},
     "title": ""
    }
   },
   "outputs": [],
   "source": [
    "display(\n",
    "    ventas\n",
    "    .groupby(\"producto_name\")\n",
    "    .agg(\n",
    "        f.sum(f.col(\"producto_quantity\") * f.col(\"producto_price\")).alias(\"total\")\n",
    "    )\n",
    "    .orderBy(f.desc(\"total\"))\n",
    ")"
   ]
  },
  {
   "cell_type": "markdown",
   "metadata": {
    "application/vnd.databricks.v1+cell": {
     "cellMetadata": {},
     "inputWidgets": {},
     "nuid": "bf9a6b4e-66af-4730-b42d-2b4455f99406",
     "showTitle": false,
     "tableResultSettingsMap": {},
     "title": ""
    }
   },
   "source": [
    "Almacenar una tabla en que cada fila represente un producto sin repetir \n",
    "\n",
    "¿Cómo debería particionarse esta tabla?"
   ]
  },
  {
   "cell_type": "code",
   "execution_count": 0,
   "metadata": {
    "application/vnd.databricks.v1+cell": {
     "cellMetadata": {
      "byteLimit": 2048000,
      "rowLimit": 10000
     },
     "inputWidgets": {},
     "nuid": "bb3f95c6-9953-4484-b067-5742258a6c8b",
     "showTitle": false,
     "tableResultSettingsMap": {
      "0": {
       "dataGridStateBlob": "{\"version\":1,\"tableState\":{\"columnPinning\":{\"left\":[\"#row_number#\"],\"right\":[]},\"columnSizing\":{},\"columnVisibility\":{}},\"settings\":{\"columns\":{}},\"syncTimestamp\":1756948766473}",
       "filterBlob": null,
       "queryPlanFiltersBlob": null,
       "tableResultIndex": 0
      }
     },
     "title": ""
    }
   },
   "outputs": [],
   "source": [
    "(\n",
    "    ventas\n",
    "    .select(\"producto_id\", \"producto_name\")\n",
    "    .distinct()\n",
    "    .write\n",
    "    .mode(\"overwrite\")\n",
    "    # En hive podríamos utilizar bucketing de la siguiente forma, si tuvieramos un gran número de productos:\n",
    "    # .bucketBy(10, \"producto_id\")  \n",
    "    .saveAsTable(\"productos\")\n",
    ")"
   ]
  },
  {
   "cell_type": "markdown",
   "metadata": {
    "application/vnd.databricks.v1+cell": {
     "cellMetadata": {},
     "inputWidgets": {},
     "nuid": "c2f72e11-68bf-4d60-8dcc-97546685fad7",
     "showTitle": false,
     "tableResultSettingsMap": {},
     "title": ""
    }
   },
   "source": [
    "Almacenar una tabla con las ventas que incluya un id del producto, la fecha y la cantidad.\n",
    "\n",
    "¿Cómo debería particionarse esta tabla?"
   ]
  },
  {
   "cell_type": "code",
   "execution_count": 0,
   "metadata": {
    "application/vnd.databricks.v1+cell": {
     "cellMetadata": {
      "byteLimit": 2048000,
      "rowLimit": 10000
     },
     "inputWidgets": {},
     "nuid": "d9f98743-4757-4d3c-9dc4-000750e8516e",
     "showTitle": false,
     "tableResultSettingsMap": {},
     "title": ""
    }
   },
   "outputs": [],
   "source": [
    "(\n",
    "    ventas\n",
    "    .select(\"producto_id\", \"fecha\", \"producto_quantity\", \"producto_price\")\n",
    "    .write.mode(\"overwrite\")\n",
    "    # En hive podríamos utilizar bucketing de la siguiente forma, si tuvieramos un gran número de productos:\n",
    "    # .bucketBy(10, \"producto_id\")  \n",
    "    .option(\"mergeSchema\", \"true\") # Permite sobre escribir el esquema\n",
    "    .saveAsTable(\"ventas\")\n",
    ")"
   ]
  },
  {
   "cell_type": "markdown",
   "metadata": {
    "application/vnd.databricks.v1+cell": {
     "cellMetadata": {},
     "inputWidgets": {},
     "nuid": "42c95671-7a55-42de-a0b1-9e73caffe626",
     "showTitle": false,
     "tableResultSettingsMap": {},
     "title": ""
    }
   },
   "source": [
    "Crear un dataframe con las ventas de julio."
   ]
  },
  {
   "cell_type": "code",
   "execution_count": 0,
   "metadata": {
    "application/vnd.databricks.v1+cell": {
     "cellMetadata": {
      "byteLimit": 2048000,
      "rowLimit": 10000
     },
     "inputWidgets": {},
     "nuid": "8db1c1af-5ee2-4744-a001-030272dcd582",
     "showTitle": false,
     "tableResultSettingsMap": {},
     "title": ""
    }
   },
   "outputs": [],
   "source": [
    "df_ventas = spark.read.table(\"ventas\")\n",
    "df_productos = spark.read.table(\"productos\")"
   ]
  },
  {
   "cell_type": "code",
   "execution_count": 0,
   "metadata": {
    "application/vnd.databricks.v1+cell": {
     "cellMetadata": {
      "byteLimit": 2048000,
      "rowLimit": 10000
     },
     "inputWidgets": {},
     "nuid": "76c01947-dfbb-458b-8833-1370aa76cd91",
     "showTitle": false,
     "tableResultSettingsMap": {},
     "title": ""
    }
   },
   "outputs": [],
   "source": [
    "ventas_julio = (\n",
    "    df_ventas\n",
    "    .filter(f.month(\"fecha\") == 1)\n",
    ")\n",
    "\n",
    "display(ventas_julio)"
   ]
  },
  {
   "cell_type": "markdown",
   "metadata": {
    "application/vnd.databricks.v1+cell": {
     "cellMetadata": {},
     "inputWidgets": {},
     "nuid": "7b166c7f-ab74-469c-bac4-bda86037541f",
     "showTitle": false,
     "tableResultSettingsMap": {},
     "title": ""
    }
   },
   "source": [
    "## 3 - Joins"
   ]
  },
  {
   "cell_type": "markdown",
   "metadata": {
    "application/vnd.databricks.v1+cell": {
     "cellMetadata": {},
     "inputWidgets": {},
     "nuid": "41b3dfc6-1b87-4cbc-b10c-0d61e66ac74b",
     "showTitle": false,
     "tableResultSettingsMap": {},
     "title": ""
    }
   },
   "source": [
    "Leer las tablas de productos y ventas. Juntarlas y calcular el valor de las ventas por mes."
   ]
  },
  {
   "cell_type": "code",
   "execution_count": 0,
   "metadata": {
    "application/vnd.databricks.v1+cell": {
     "cellMetadata": {
      "byteLimit": 2048000,
      "rowLimit": 10000
     },
     "inputWidgets": {},
     "nuid": "a8d026e6-7811-47e7-a910-26c32c1b3ad1",
     "showTitle": false,
     "tableResultSettingsMap": {},
     "title": ""
    }
   },
   "outputs": [],
   "source": [
    "display(\n",
    "    df_ventas\n",
    "    .join(\n",
    "        df_productos,\n",
    "        on=\"producto_id\",\n",
    "        how=\"inner\"\n",
    "    )\n",
    "    .groupby(f.month(\"fecha\"))\n",
    "    .agg(f.sum(\"producto_quantity\"))\n",
    ")"
   ]
  },
  {
   "cell_type": "markdown",
   "metadata": {
    "application/vnd.databricks.v1+cell": {
     "cellMetadata": {},
     "inputWidgets": {},
     "nuid": "5ea346a7-b8ff-420f-8c96-f820551aa1db",
     "showTitle": false,
     "tableResultSettingsMap": {},
     "title": ""
    }
   },
   "source": []
  },
  {
   "cell_type": "markdown",
   "metadata": {
    "application/vnd.databricks.v1+cell": {
     "cellMetadata": {},
     "inputWidgets": {},
     "nuid": "598539b4-74e9-4290-b98d-36d078325b32",
     "showTitle": false,
     "tableResultSettingsMap": {},
     "title": ""
    }
   },
   "source": [
    "Identificar todos los productos que se vendieron cada mes pero no se vendieron en enero"
   ]
  },
  {
   "cell_type": "code",
   "execution_count": 0,
   "metadata": {
    "application/vnd.databricks.v1+cell": {
     "cellMetadata": {
      "byteLimit": 2048000,
      "rowLimit": 10000
     },
     "inputWidgets": {},
     "nuid": "59ea0381-bae8-4cf3-b49e-589801b1cd0b",
     "showTitle": false,
     "tableResultSettingsMap": {},
     "title": ""
    }
   },
   "outputs": [],
   "source": [
    "display(\n",
    "  ventas\n",
    "  .select(\"producto_id\", \"producto_name\", f.month(\"fecha\"))\n",
    "  .distinct()\n",
    "  .join(\n",
    "    ventas_julio,\n",
    "    on=\"producto_id\",\n",
    "    how=\"anti\"  \n",
    "  )\n",
    ")"
   ]
  },
  {
   "cell_type": "markdown",
   "metadata": {
    "application/vnd.databricks.v1+cell": {
     "cellMetadata": {},
     "inputWidgets": {},
     "nuid": "65943731-e557-4175-9ead-850ae3908aba",
     "showTitle": false,
     "tableResultSettingsMap": {},
     "title": ""
    }
   },
   "source": [
    "## 4 - Ventanas"
   ]
  },
  {
   "cell_type": "markdown",
   "metadata": {
    "application/vnd.databricks.v1+cell": {
     "cellMetadata": {},
     "inputWidgets": {},
     "nuid": "7b8d16ef-6710-4fba-a3b5-2bf19a9077e3",
     "showTitle": false,
     "tableResultSettingsMap": {},
     "title": ""
    }
   },
   "source": [
    "Mostrar el top 3 de los productos más vendidos cada mes"
   ]
  },
  {
   "cell_type": "code",
   "execution_count": 0,
   "metadata": {
    "application/vnd.databricks.v1+cell": {
     "cellMetadata": {
      "byteLimit": 2048000,
      "rowLimit": 10000
     },
     "inputWidgets": {},
     "nuid": "4aed48ca-c3d2-4854-ac95-603033aea0d5",
     "showTitle": false,
     "tableResultSettingsMap": {
      "0": {
       "dataGridStateBlob": "{\"version\":1,\"tableState\":{\"columnPinning\":{\"left\":[\"#row_number#\"],\"right\":[]},\"columnSizing\":{},\"columnVisibility\":{}},\"settings\":{\"columns\":{}},\"syncTimestamp\":1756950432061}",
       "filterBlob": null,
       "queryPlanFiltersBlob": null,
       "tableResultIndex": 0
      }
     },
     "title": ""
    }
   },
   "outputs": [],
   "source": [
    "from pyspark.sql import Window\n",
    "\n",
    "ventana = Window.partitionBy(\"mes\").orderBy(f.desc(\"cantidad\"))\n",
    "\n",
    "display(\n",
    "  ventas\n",
    "  .groupby(f.month(\"fecha\").alias(\"mes\"), \"producto_name\")\n",
    "  .agg(f.sum(\"producto_quantity\").alias(\"cantidad\"))\n",
    "  .withColumn(\"rank\", f.rank().over(ventana))\n",
    "  .filter(\"rank <= 3\")\n",
    "  .orderBy(\"mes\", \"rank\")\n",
    ")"
   ]
  },
  {
   "cell_type": "markdown",
   "metadata": {
    "application/vnd.databricks.v1+cell": {
     "cellMetadata": {},
     "inputWidgets": {},
     "nuid": "7c75b89e-0a94-40b6-86ac-55f2fab71f07",
     "showTitle": false,
     "tableResultSettingsMap": {},
     "title": ""
    }
   },
   "source": [
    "## 5 - Aproximaciones\n"
   ]
  },
  {
   "cell_type": "markdown",
   "metadata": {
    "application/vnd.databricks.v1+cell": {
     "cellMetadata": {},
     "inputWidgets": {},
     "nuid": "a335748b-91bb-4eaa-aff5-d3ed494ef47d",
     "showTitle": false,
     "tableResultSettingsMap": {},
     "title": ""
    }
   },
   "source": [
    "Cuántos clientes han visitado la cafetería cada mes"
   ]
  },
  {
   "cell_type": "code",
   "execution_count": 0,
   "metadata": {
    "application/vnd.databricks.v1+cell": {
     "cellMetadata": {
      "byteLimit": 2048000,
      "rowLimit": 10000
     },
     "inputWidgets": {},
     "nuid": "51d65e1d-29f4-4299-b177-e05c374f66b1",
     "showTitle": false,
     "tableResultSettingsMap": {},
     "title": ""
    }
   },
   "outputs": [],
   "source": [
    "display(\n",
    "    df\n",
    "    .groupby(f.month(\"createdOn\"))\n",
    "    .agg(f.approx_count_distinct(\"client_id\", rsd=0.01))\n",
    ")"
   ]
  },
  {
   "cell_type": "markdown",
   "metadata": {
    "application/vnd.databricks.v1+cell": {
     "cellMetadata": {},
     "inputWidgets": {},
     "nuid": "826f4ccb-2968-4f52-8b79-0d6132c897d1",
     "showTitle": false,
     "tableResultSettingsMap": {},
     "title": ""
    }
   },
   "source": [
    "Cuánto es lo minimos valor del 20% de las facturas más grandes"
   ]
  },
  {
   "cell_type": "code",
   "execution_count": 0,
   "metadata": {
    "application/vnd.databricks.v1+cell": {
     "cellMetadata": {
      "byteLimit": 2048000,
      "rowLimit": 10000
     },
     "inputWidgets": {},
     "nuid": "221d65de-78c1-4cd0-a6b0-4b5ec660a3f2",
     "showTitle": false,
     "tableResultSettingsMap": {
      "0": {
       "dataGridStateBlob": "{\"version\":1,\"tableState\":{\"columnPinning\":{\"left\":[\"#row_number#\"],\"right\":[]},\"columnSizing\":{},\"columnVisibility\":{}},\"settings\":{\"columns\":{}},\"syncTimestamp\":1757520323502}",
       "filterBlob": null,
       "queryPlanFiltersBlob": null,
       "tableResultIndex": 0
      }
     },
     "title": ""
    }
   },
   "outputs": [],
   "source": [
    "display(\n",
    "    df\n",
    "    .agg(\n",
    "        # Calculamos una aproximación al percentil 80\n",
    "        f.approx_percentile(\"totalPaid\", 0.80)\n",
    "    )\n",
    ")"
   ]
  },
  {
   "cell_type": "markdown",
   "metadata": {
    "application/vnd.databricks.v1+cell": {
     "cellMetadata": {},
     "inputWidgets": {},
     "nuid": "c54b24ae-e761-49bd-8c52-f9388a03c469",
     "showTitle": false,
     "tableResultSettingsMap": {},
     "title": ""
    }
   },
   "source": [
    "# Explore el dataset para encontrar `insights`"
   ]
  },
  {
   "cell_type": "code",
   "execution_count": 0,
   "metadata": {
    "application/vnd.databricks.v1+cell": {
     "cellMetadata": {},
     "inputWidgets": {},
     "nuid": "e34691d6-61ba-422a-a215-5eaf87332961",
     "showTitle": false,
     "tableResultSettingsMap": {},
     "title": ""
    }
   },
   "outputs": [],
   "source": []
  }
 ],
 "metadata": {
  "application/vnd.databricks.v1+notebook": {
   "computePreferences": null,
   "dashboards": [],
   "environmentMetadata": {
    "base_environment": "",
    "environment_version": "3"
   },
   "inputWidgetPreferences": null,
   "language": "python",
   "notebookMetadata": {
    "pythonIndentUnit": 4
   },
   "notebookName": "Ejemplo de clase",
   "widgets": {}
  },
  "language_info": {
   "name": "python"
  }
 },
 "nbformat": 4,
 "nbformat_minor": 0
}
