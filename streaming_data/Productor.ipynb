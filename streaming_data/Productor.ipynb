{
 "cells": [
  {
   "cell_type": "code",
   "execution_count": null,
   "id": "d7b78e53-0c90-42fd-9fe2-ffad4137a8c8",
   "metadata": {},
   "outputs": [],
   "source": [
    "import os\n",
    "from time import sleep, time\n",
    "import random\n",
    "import json\n",
    "from datetime import datetime\n",
    "\n",
    "from confluent_kafka import Producer\n",
    "\n",
    "CONNECTION_STRING = os.environ.get(\"KAFKA_CONNECTION_STRING\")"
   ]
  },
  {
   "cell_type": "code",
   "execution_count": null,
   "id": "b5c84f71-c220-46df-b4bb-7cd2ad161fc6",
   "metadata": {},
   "outputs": [],
   "source": [
    "producer = Producer({\n",
    "    'bootstrap.servers': f\"clase-streaming.servicebus.windows.net:9093\",\n",
    "    'security.protocol': 'SASL_SSL',\n",
    "    'sasl.mechanism': 'PLAIN',\n",
    "    'sasl.username': '$ConnectionString',\n",
    "    'sasl.password': CONNECTION_STRING,\n",
    "})"
   ]
  },
  {
   "cell_type": "code",
   "execution_count": null,
   "id": "f25184ba-0369-4145-95dc-1bfbeed1f800",
   "metadata": {},
   "outputs": [],
   "source": [
    "# Escribe 5 mensajes \n",
    "for i in range(5):\n",
    "    producer.produce('tema', key=f'clave {i}', value=f'Hola Kafka! {i}')\n",
    "    producer.flush()\n",
    "    sleep(1)"
   ]
  },
  {
   "cell_type": "code",
   "execution_count": null,
   "id": "f0f61178-157a-403c-ab19-6d73a5ba9ad0",
   "metadata": {},
   "outputs": [],
   "source": [
    "# Escribe un mensaje por cada sensor cada 10 segundos simulando un retraso aleatorio \n",
    "\n",
    "for i in range(10):\n",
    "    for sensor in range(2):\n",
    "        mensaje = {\n",
    "            \"temperatura\": random.normalvariate(25, 10),\n",
    "            \"funcionamiento\": random.choices([\"Correcto\", \"Incorrecto\"], [80, 10])[0]\n",
    "        }\n",
    "        delay = random.normalvariate(0.1, 2) * 1000\n",
    "        producer.produce(\n",
    "            'sensores',\n",
    "            value=json.dumps(mensaje),\n",
    "            key=f\"Sensor {sensor}\",\n",
    "            timestamp=int(time()*1000 - delay)\n",
    "        )\n",
    "    producer.flush()\n",
    "    sleep(10)"
   ]
  },
  {
   "cell_type": "code",
   "execution_count": null,
   "id": "bb765e40-0d6f-4297-8dae-8ba1e3dfece1",
   "metadata": {},
   "outputs": [],
   "source": []
  }
 ],
 "metadata": {
  "kernelspec": {
   "display_name": "Python 3 (ipykernel)",
   "language": "python",
   "name": "python3"
  },
  "language_info": {
   "codemirror_mode": {
    "name": "ipython",
    "version": 3
   },
   "file_extension": ".py",
   "mimetype": "text/x-python",
   "name": "python",
   "nbconvert_exporter": "python",
   "pygments_lexer": "ipython3",
   "version": "3.11.6"
  }
 },
 "nbformat": 4,
 "nbformat_minor": 5
}
