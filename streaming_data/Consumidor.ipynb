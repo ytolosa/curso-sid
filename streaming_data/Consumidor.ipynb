{
 "cells": [
  {
   "cell_type": "code",
   "execution_count": null,
   "id": "125c18e7-3440-4aa2-a9c4-739f7b996bb0",
   "metadata": {},
   "outputs": [],
   "source": [
    "import os\n",
    "from confluent_kafka import Consumer, KafkaException, KafkaError\n",
    "from datetime import datetime\n",
    "\n",
    "CONNECTION_STRING = os.environ.get(\"KAFKA_CONNECTION_STRING\")"
   ]
  },
  {
   "cell_type": "code",
   "execution_count": null,
   "id": "b85a9008-676c-4608-a84d-a55d68621698",
   "metadata": {},
   "outputs": [],
   "source": [
    "\n",
    "\n",
    "consumer = Consumer({\n",
    "    'bootstrap.servers': f\"clase-streaming.servicebus.windows.net:9093\",\n",
    "    'security.protocol': 'SASL_SSL',\n",
    "    'sasl.mechanism': 'PLAIN',\n",
    "    'sasl.username': '$ConnectionString',\n",
    "    'sasl.password': CONNECTION_STRING,\n",
    "    \"group.id\": \"grupo-1\",\n",
    "})\n",
    "\n",
    "\n",
    "# Suscribirse al tópico\n",
    "consumer.subscribe([\"sensores\"])\n",
    "\n",
    "try:\n",
    "    while True:\n",
    "        msg = consumer.poll(1.0)  # Espera hasta 1 segundo por un mensaje\n",
    "        if msg is None:\n",
    "            print(\".\", end=\"\")\n",
    "            continue\n",
    "        if msg.error():\n",
    "            raise print(msg.error())\n",
    "        else:\n",
    "            print(f\"\"\"\n",
    "            Recibido:  \"\n",
    "                  llave={msg.key().decode('utf-8')}\n",
    "                  mensaje={msg.value().decode('utf-8')}\n",
    "                  timestamp={datetime.fromtimestamp(msg.timestamp()[1]/1000)}\n",
    "                  \"\"\")\n",
    "except KeyboardInterrupt:\n",
    "    print(\"Interrumpido por el usuario\")\n",
    "finally:\n",
    "    consumer.close()"
   ]
  },
  {
   "cell_type": "code",
   "execution_count": null,
   "id": "373c1e9c-9176-48d1-ae8a-1d22f7986e76",
   "metadata": {},
   "outputs": [],
   "source": []
  }
 ],
 "metadata": {
  "kernelspec": {
   "display_name": "Python 3 (ipykernel)",
   "language": "python",
   "name": "python3"
  },
  "language_info": {
   "codemirror_mode": {
    "name": "ipython",
    "version": 3
   },
   "file_extension": ".py",
   "mimetype": "text/x-python",
   "name": "python",
   "nbconvert_exporter": "python",
   "pygments_lexer": "ipython3",
   "version": "3.11.6"
  }
 },
 "nbformat": 4,
 "nbformat_minor": 5
}
