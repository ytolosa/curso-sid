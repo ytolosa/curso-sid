{
 "cells": [
  {
   "cell_type": "code",
   "execution_count": 1,
   "id": "288722d9-c467-4ba7-9f3e-d47428951b45",
   "metadata": {},
   "outputs": [],
   "source": [
    "import os\n",
    "from time import sleep\n",
    "\n",
    "from pyspark.sql import SparkSession\n",
    "from pyspark.sql import functions as f"
   ]
  },
  {
   "cell_type": "code",
   "execution_count": 3,
   "id": "e59d5e5e-fe15-4e99-b39c-efc4175083a2",
   "metadata": {},
   "outputs": [],
   "source": [
    "USUARIO = \"yy\"\n",
    "\n",
    "if not USUARIO:\n",
    "    raise RuntimeError(\"Por favor escriba su usuario Uniandes\")"
   ]
  },
  {
   "cell_type": "markdown",
   "id": "66fb90b4-f19b-430a-b064-5ba4c68c5b2d",
   "metadata": {},
   "source": [
    "# Creamos la sesión de spark"
   ]
  },
  {
   "cell_type": "code",
   "execution_count": 4,
   "id": "03c784bf-dd33-45a6-88ad-ff82e51f7db0",
   "metadata": {
    "scrolled": true
   },
   "outputs": [
    {
     "name": "stderr",
     "output_type": "stream",
     "text": [
      "WARNING: Using incubator modules: jdk.incubator.vector\n",
      "Warning: Ignoring non-Spark config property: fs.azure.account.key.streamingclass.dfs.core.windows.net\n",
      ":: loading settings :: url = jar:file:/usr/local/spark/jars/ivy-2.5.3.jar!/org/apache/ivy/core/settings/ivysettings.xml\n",
      "Ivy Default Cache set to: /home/jovyan/.ivy2.5.2/cache\n",
      "The jars for the packages stored in: /home/jovyan/.ivy2.5.2/jars\n",
      "org.apache.spark#spark-sql-kafka-0-10_2.13 added as a dependency\n",
      "io.delta#delta-spark_2.13 added as a dependency\n",
      "org.apache.hadoop#hadoop-azure added as a dependency\n",
      "com.azure#azure-storage-blob added as a dependency\n",
      ":: resolving dependencies :: org.apache.spark#spark-submit-parent-e833fc86-88b4-4f96-a062-e696aa8ce2f0;1.0\n",
      "\tconfs: [default]\n",
      "\tfound org.apache.spark#spark-sql-kafka-0-10_2.13;4.0.0 in central\n",
      "\tfound org.apache.spark#spark-token-provider-kafka-0-10_2.13;4.0.0 in central\n",
      "\tfound org.apache.kafka#kafka-clients;3.9.0 in central\n",
      "\tfound org.lz4#lz4-java;1.8.0 in central\n",
      "\tfound org.xerial.snappy#snappy-java;1.1.10.7 in central\n",
      "\tfound org.slf4j#slf4j-api;2.0.16 in central\n",
      "\tfound org.apache.hadoop#hadoop-client-runtime;3.4.1 in central\n",
      "\tfound org.apache.hadoop#hadoop-client-api;3.4.1 in central\n",
      "\tfound com.google.code.findbugs#jsr305;3.0.0 in central\n",
      "\tfound org.scala-lang.modules#scala-parallel-collections_2.13;1.2.0 in central\n",
      "\tfound org.apache.commons#commons-pool2;2.12.0 in central\n",
      "\tfound io.delta#delta-spark_2.13;4.0.0 in central\n",
      "\tfound io.delta#delta-storage;4.0.0 in central\n",
      "\tfound org.antlr#antlr4-runtime;4.13.1 in central\n",
      "\tfound org.apache.hadoop#hadoop-azure;3.4.0 in central\n",
      "\tfound org.apache.httpcomponents#httpclient;4.5.13 in central\n",
      "\tfound org.apache.httpcomponents#httpcore;4.4.13 in central\n",
      "\tfound commons-logging#commons-logging;1.2 in central\n",
      "\tfound commons-codec#commons-codec;1.15 in central\n",
      "\tfound com.microsoft.azure#azure-storage;7.0.1 in central\n",
      "\tfound com.microsoft.azure#azure-keyvault-core;1.0.0 in central\n",
      "\tfound org.apache.hadoop.thirdparty#hadoop-shaded-guava;1.2.0 in central\n",
      "\tfound org.eclipse.jetty#jetty-util-ajax;9.4.53.v20231009 in central\n",
      "\tfound org.eclipse.jetty#jetty-util;9.4.53.v20231009 in central\n",
      "\tfound org.wildfly.openssl#wildfly-openssl;1.1.3.Final in central\n",
      "\tfound com.azure#azure-storage-blob;12.25.1 in central\n",
      "\tfound com.azure#azure-core;1.45.1 in central\n",
      "\tfound com.azure#azure-json;1.1.0 in central\n",
      "\tfound com.fasterxml.jackson.core#jackson-annotations;2.13.5 in central\n",
      "\tfound com.fasterxml.jackson.core#jackson-core;2.13.5 in central\n",
      "\tfound com.fasterxml.jackson.core#jackson-databind;2.13.5 in central\n",
      "\tfound com.fasterxml.jackson.datatype#jackson-datatype-jsr310;2.13.5 in central\n",
      "\tfound io.projectreactor#reactor-core;3.4.34 in central\n",
      "\tfound org.reactivestreams#reactive-streams;1.0.4 in central\n",
      "\tfound com.azure#azure-core-http-netty;1.13.11 in central\n",
      "\tfound io.netty#netty-handler;4.1.101.Final in central\n",
      "\tfound io.netty#netty-common;4.1.101.Final in central\n",
      "\tfound io.netty#netty-resolver;4.1.101.Final in central\n",
      "\tfound io.netty#netty-buffer;4.1.101.Final in central\n",
      "\tfound io.netty#netty-transport;4.1.101.Final in central\n",
      "\tfound io.netty#netty-transport-native-unix-common;4.1.101.Final in central\n",
      "\tfound io.netty#netty-codec;4.1.101.Final in central\n",
      "\tfound io.netty#netty-handler-proxy;4.1.101.Final in central\n",
      "\tfound io.netty#netty-codec-socks;4.1.101.Final in central\n",
      "\tfound io.netty#netty-codec-http;4.1.101.Final in central\n",
      "\tfound io.netty#netty-codec-http2;4.1.101.Final in central\n",
      "\tfound io.netty#netty-transport-native-epoll;4.1.101.Final in central\n",
      "\tfound io.netty#netty-transport-classes-epoll;4.1.101.Final in central\n",
      "\tfound io.netty#netty-transport-native-kqueue;4.1.101.Final in central\n",
      "\tfound io.netty#netty-transport-classes-kqueue;4.1.101.Final in central\n",
      "\tfound io.netty#netty-tcnative-boringssl-static;2.0.62.Final in central\n",
      "\tfound io.netty#netty-tcnative-classes;2.0.62.Final in central\n",
      "\tfound io.projectreactor.netty#reactor-netty-http;1.0.39 in central\n",
      "\tfound io.netty#netty-resolver-dns;4.1.101.Final in central\n",
      "\tfound io.netty#netty-codec-dns;4.1.101.Final in central\n",
      "\tfound io.netty#netty-resolver-dns-native-macos;4.1.101.Final in central\n",
      "\tfound io.netty#netty-resolver-dns-classes-macos;4.1.101.Final in central\n",
      "\tfound io.projectreactor.netty#reactor-netty-core;1.0.39 in central\n",
      "\tfound com.azure#azure-storage-common;12.24.1 in central\n",
      "\tfound com.fasterxml.jackson.dataformat#jackson-dataformat-xml;2.13.5 in central\n",
      "\tfound org.codehaus.woodstox#stax2-api;4.2.1 in central\n",
      "\tfound com.fasterxml.woodstox#woodstox-core;6.4.0 in central\n",
      "\tfound com.azure#azure-storage-internal-avro;12.10.1 in central\n",
      ":: resolution report :: resolve 446ms :: artifacts dl 19ms\n",
      "\t:: modules in use:\n",
      "\tcom.azure#azure-core;1.45.1 from central in [default]\n",
      "\tcom.azure#azure-core-http-netty;1.13.11 from central in [default]\n",
      "\tcom.azure#azure-json;1.1.0 from central in [default]\n",
      "\tcom.azure#azure-storage-blob;12.25.1 from central in [default]\n",
      "\tcom.azure#azure-storage-common;12.24.1 from central in [default]\n",
      "\tcom.azure#azure-storage-internal-avro;12.10.1 from central in [default]\n",
      "\tcom.fasterxml.jackson.core#jackson-annotations;2.13.5 from central in [default]\n",
      "\tcom.fasterxml.jackson.core#jackson-core;2.13.5 from central in [default]\n",
      "\tcom.fasterxml.jackson.core#jackson-databind;2.13.5 from central in [default]\n",
      "\tcom.fasterxml.jackson.dataformat#jackson-dataformat-xml;2.13.5 from central in [default]\n",
      "\tcom.fasterxml.jackson.datatype#jackson-datatype-jsr310;2.13.5 from central in [default]\n",
      "\tcom.fasterxml.woodstox#woodstox-core;6.4.0 from central in [default]\n",
      "\tcom.google.code.findbugs#jsr305;3.0.0 from central in [default]\n",
      "\tcom.microsoft.azure#azure-keyvault-core;1.0.0 from central in [default]\n",
      "\tcom.microsoft.azure#azure-storage;7.0.1 from central in [default]\n",
      "\tcommons-codec#commons-codec;1.15 from central in [default]\n",
      "\tcommons-logging#commons-logging;1.2 from central in [default]\n",
      "\tio.delta#delta-spark_2.13;4.0.0 from central in [default]\n",
      "\tio.delta#delta-storage;4.0.0 from central in [default]\n",
      "\tio.netty#netty-buffer;4.1.101.Final from central in [default]\n",
      "\tio.netty#netty-codec;4.1.101.Final from central in [default]\n",
      "\tio.netty#netty-codec-dns;4.1.101.Final from central in [default]\n",
      "\tio.netty#netty-codec-http;4.1.101.Final from central in [default]\n",
      "\tio.netty#netty-codec-http2;4.1.101.Final from central in [default]\n",
      "\tio.netty#netty-codec-socks;4.1.101.Final from central in [default]\n",
      "\tio.netty#netty-common;4.1.101.Final from central in [default]\n",
      "\tio.netty#netty-handler;4.1.101.Final from central in [default]\n",
      "\tio.netty#netty-handler-proxy;4.1.101.Final from central in [default]\n",
      "\tio.netty#netty-resolver;4.1.101.Final from central in [default]\n",
      "\tio.netty#netty-resolver-dns;4.1.101.Final from central in [default]\n",
      "\tio.netty#netty-resolver-dns-classes-macos;4.1.101.Final from central in [default]\n",
      "\tio.netty#netty-resolver-dns-native-macos;4.1.101.Final from central in [default]\n",
      "\tio.netty#netty-tcnative-boringssl-static;2.0.62.Final from central in [default]\n",
      "\tio.netty#netty-tcnative-classes;2.0.62.Final from central in [default]\n",
      "\tio.netty#netty-transport;4.1.101.Final from central in [default]\n",
      "\tio.netty#netty-transport-classes-epoll;4.1.101.Final from central in [default]\n",
      "\tio.netty#netty-transport-classes-kqueue;4.1.101.Final from central in [default]\n",
      "\tio.netty#netty-transport-native-epoll;4.1.101.Final from central in [default]\n",
      "\tio.netty#netty-transport-native-kqueue;4.1.101.Final from central in [default]\n",
      "\tio.netty#netty-transport-native-unix-common;4.1.101.Final from central in [default]\n",
      "\tio.projectreactor#reactor-core;3.4.34 from central in [default]\n",
      "\tio.projectreactor.netty#reactor-netty-core;1.0.39 from central in [default]\n",
      "\tio.projectreactor.netty#reactor-netty-http;1.0.39 from central in [default]\n",
      "\torg.antlr#antlr4-runtime;4.13.1 from central in [default]\n",
      "\torg.apache.commons#commons-pool2;2.12.0 from central in [default]\n",
      "\torg.apache.hadoop#hadoop-azure;3.4.0 from central in [default]\n",
      "\torg.apache.hadoop#hadoop-client-api;3.4.1 from central in [default]\n",
      "\torg.apache.hadoop#hadoop-client-runtime;3.4.1 from central in [default]\n",
      "\torg.apache.hadoop.thirdparty#hadoop-shaded-guava;1.2.0 from central in [default]\n",
      "\torg.apache.httpcomponents#httpclient;4.5.13 from central in [default]\n",
      "\torg.apache.httpcomponents#httpcore;4.4.13 from central in [default]\n",
      "\torg.apache.kafka#kafka-clients;3.9.0 from central in [default]\n",
      "\torg.apache.spark#spark-sql-kafka-0-10_2.13;4.0.0 from central in [default]\n",
      "\torg.apache.spark#spark-token-provider-kafka-0-10_2.13;4.0.0 from central in [default]\n",
      "\torg.codehaus.woodstox#stax2-api;4.2.1 from central in [default]\n",
      "\torg.eclipse.jetty#jetty-util;9.4.53.v20231009 from central in [default]\n",
      "\torg.eclipse.jetty#jetty-util-ajax;9.4.53.v20231009 from central in [default]\n",
      "\torg.lz4#lz4-java;1.8.0 from central in [default]\n",
      "\torg.reactivestreams#reactive-streams;1.0.4 from central in [default]\n",
      "\torg.scala-lang.modules#scala-parallel-collections_2.13;1.2.0 from central in [default]\n",
      "\torg.slf4j#slf4j-api;2.0.16 from central in [default]\n",
      "\torg.wildfly.openssl#wildfly-openssl;1.1.3.Final from central in [default]\n",
      "\torg.xerial.snappy#snappy-java;1.1.10.7 from central in [default]\n",
      "\t:: evicted modules:\n",
      "\torg.slf4j#slf4j-api;1.7.36 by [org.slf4j#slf4j-api;2.0.16] in [default]\n",
      "\t---------------------------------------------------------------------\n",
      "\t|                  |            modules            ||   artifacts   |\n",
      "\t|       conf       | number| search|dwnlded|evicted|| number|dwnlded|\n",
      "\t---------------------------------------------------------------------\n",
      "\t|      default     |   64  |   0   |   0   |   1   ||   63  |   0   |\n",
      "\t---------------------------------------------------------------------\n",
      ":: retrieving :: org.apache.spark#spark-submit-parent-e833fc86-88b4-4f96-a062-e696aa8ce2f0\n",
      "\tconfs: [default]\n",
      "\t0 artifacts copied, 63 already retrieved (0kB/8ms)\n",
      "25/09/22 22:58:52 WARN NativeCodeLoader: Unable to load native-hadoop library for your platform... using builtin-java classes where applicable\n",
      "Using Spark's default log4j profile: org/apache/spark/log4j2-defaults.properties\n",
      "Setting default log level to \"WARN\".\n",
      "To adjust logging level use sc.setLogLevel(newLevel). For SparkR, use setLogLevel(newLevel).\n"
     ]
    }
   ],
   "source": [
    "spark = (\n",
    "    SparkSession.builder \n",
    "        .appName(\"streaming_data\") \n",
    "        .master(\"local[1]\")\n",
    "        .config(\n",
    "            \"spark.sql.extensions\",\n",
    "            \"io.delta.sql.DeltaSparkSessionExtension\"\n",
    "        )\n",
    "        .config(\n",
    "            \"spark.sql.catalog.spark_catalog\",\n",
    "            \"org.apache.spark.sql.delta.catalog.DeltaCatalog\"\n",
    "        )\n",
    "        .config(\n",
    "            \"fs.azure.account.key.streamingclass.dfs.core.windows.net\",\n",
    "            os.environ.get(\"AZURE_KEY\")\n",
    "        )\n",
    "        .getOrCreate()\n",
    ")\n"
   ]
  },
  {
   "cell_type": "code",
   "execution_count": 5,
   "id": "6e25426d-cb20-4672-9fc2-84ffa06df8bb",
   "metadata": {},
   "outputs": [
    {
     "data": {
      "text/html": [
       "\n",
       "            <div>\n",
       "                <p><b>SparkSession - in-memory</b></p>\n",
       "                \n",
       "        <div>\n",
       "            <p><b>SparkContext</b></p>\n",
       "\n",
       "            <p><a href=\"http://4f773399583b:4040\">Spark UI</a></p>\n",
       "\n",
       "            <dl>\n",
       "              <dt>Version</dt>\n",
       "                <dd><code>v4.0.1</code></dd>\n",
       "              <dt>Master</dt>\n",
       "                <dd><code>local[1]</code></dd>\n",
       "              <dt>AppName</dt>\n",
       "                <dd><code>streaming_data</code></dd>\n",
       "            </dl>\n",
       "        </div>\n",
       "        \n",
       "            </div>\n",
       "        "
      ],
      "text/plain": [
       "<pyspark.sql.session.SparkSession at 0x7fdb82aafe90>"
      ]
     },
     "execution_count": 5,
     "metadata": {},
     "output_type": "execute_result"
    }
   ],
   "source": [
    "spark"
   ]
  },
  {
   "cell_type": "markdown",
   "id": "1d58daaf-aa10-46f8-b9c7-086dd0576de6",
   "metadata": {},
   "source": [
    "# Cargar datos de referencia de los sensores"
   ]
  },
  {
   "cell_type": "code",
   "execution_count": null,
   "id": "e2ce28cd-150f-4f99-be58-66c64f3ac411",
   "metadata": {},
   "outputs": [],
   "source": [
    "datos_referencia = spark.read.format(\"json\").load(f\"abfss://data@streamingclass.dfs.core.windows.net/datos/sensores.json\")\n",
    "\n",
    "datos_referencia.show()"
   ]
  },
  {
   "cell_type": "markdown",
   "id": "a68168ef-58ee-4c10-ab88-e645f10d100f",
   "metadata": {},
   "source": [
    "## Conectarse a un tema de Kafka como fuente"
   ]
  },
  {
   "cell_type": "code",
   "execution_count": null,
   "id": "40bd1013-b3bd-4266-b3b4-f019b2f1e1ca",
   "metadata": {},
   "outputs": [],
   "source": [
    "CONNECTION_STRING = os.environ[\"KAFKA_CONNECTION_STRING\"]\n",
    "JAAS_CONFIG = f'org.apache.kafka.common.security.plain.PlainLoginModule required username=\"$ConnectionString\" password=\"{CONNECTION_STRING}\";'\n",
    "\n",
    "df_kafka = (\n",
    "    spark.readStream\n",
    "    .format(\"kafka\")\n",
    "    .option(\"kafka.bootstrap.servers\", \"https://clase-streaming.servicebus.windows.net:9093\")\n",
    "    .option(\"kafka.sasl.mechanism\", \"PLAIN\")\n",
    "    .option(\"kafka.security.protocol\", \"SASL_SSL\")\n",
    "    .option(\"kafka.sasl.jaas.config\", JAAS_CONFIG)\n",
    "    .option(\"subscribe\", \"sensores\")\n",
    "    .option(\"startingOffsets\",\"latest\") # podría ser \"earliest\", \"latest\" o \"\"\"{\"tema\":{\"0\":23,\"1\":-1}} \"\"\"\n",
    "    .load()\n",
    ")\n"
   ]
  },
  {
   "cell_type": "markdown",
   "id": "e239b3f3-082c-4511-b373-53d225d6bd47",
   "metadata": {},
   "source": [
    "# Consultar los datos en consola para depuracion"
   ]
  },
  {
   "cell_type": "code",
   "execution_count": null,
   "id": "553a2097-c3ed-4254-bbd5-58f4996d7e38",
   "metadata": {},
   "outputs": [],
   "source": [
    "query = (\n",
    "    df_kafka.writeStream\n",
    "    .format(\"console\")\n",
    "    .outputMode(\"append\")\n",
    "    .option(\"checkpointLocation\", f\"abfss://data@streamingclass.dfs.core.windows.net/{USUARIO}/checkpoint\")\n",
    "    .start()\n",
    ") \n",
    "\n",
    "# Esperamos 10 segundos\n",
    "sleep(30)\n",
    "\n",
    "# Finalizamos el proceso\n",
    "query.stop()"
   ]
  },
  {
   "cell_type": "markdown",
   "id": "b0d2ff90-fba4-4f6a-b7b0-404f5751e264",
   "metadata": {},
   "source": [
    "# Procesamiento de cada batch con foreachBatch\n",
    "\n",
    "En este ejemplo solo imprimimos en pantalla, pero puede incluirse una lógica propia, por ejemplo para hacer un upsert en una tabla "
   ]
  },
  {
   "cell_type": "code",
   "execution_count": null,
   "id": "ee0df186-e0ba-4fce-afb3-648688f59e95",
   "metadata": {},
   "outputs": [],
   "source": [
    "from pyspark.sql.types import StructType, StructField, StringType, IntegerType\n",
    "\n",
    "# Parseamos key y value que son campos binarios\n",
    "\n",
    "# Definimos el esquema:\n",
    "json_schema = StructType([\n",
    "    StructField(\"temperatura\", StringType(), True),\n",
    "    StructField(\"funcionamiento\", StringType(), True)\n",
    "])\n",
    "\n",
    "\n",
    "df_parseado = (\n",
    "    df_kafka\n",
    "    .select(\n",
    "        f.col(\"key\").cast(\"string\"),\n",
    "        f.from_json(f.col(\"value\").cast(\"string\"), json_schema).alias(\"data\"),\n",
    "        \"timestamp\"\n",
    "    )\n",
    "    .select(\n",
    "        \"key\",\n",
    "        \"data.temperatura\",\n",
    "        \"data.funcionamiento\",\n",
    "        \"timestamp\"\n",
    "    )\n",
    ")\n",
    "\n",
    "df_parseado.printSchema()"
   ]
  },
  {
   "cell_type": "code",
   "execution_count": null,
   "id": "a19adc21-dfca-4682-825b-502a2ffbaefe",
   "metadata": {},
   "outputs": [],
   "source": [
    "def imprimir(x, epoch_id):\n",
    "    \"\"\" \n",
    "    Función de ejemplo que simplemente imprime el lote\n",
    "    \"\"\"\n",
    "    print(f\"epoch_id: {epoch_id}\")\n",
    "    x.show(truncate=False)"
   ]
  },
  {
   "cell_type": "code",
   "execution_count": null,
   "id": "402ef174-8943-4b12-bdb8-23126326e760",
   "metadata": {},
   "outputs": [],
   "source": [
    "query = (\n",
    "    df_parseado\n",
    "    .writeStream\n",
    "    .outputMode(\"append\")\n",
    "    .foreachBatch(imprimir)\n",
    "    .start()\n",
    ") \n",
    "\n",
    "# Esperamos 10 segundos\n",
    "sleep(30)\n",
    "\n",
    "# Finalizamos el proceso\n",
    "query.stop()"
   ]
  },
  {
   "cell_type": "markdown",
   "id": "7ea3cc29-ba09-4f01-b164-d65a176e4cd3",
   "metadata": {},
   "source": [
    "# Cálculo de la temperatura promedio de cada sensor"
   ]
  },
  {
   "cell_type": "code",
   "execution_count": null,
   "id": "40680760-39c3-4809-9e4b-6927c60440c7",
   "metadata": {},
   "outputs": [],
   "source": [
    "# Agrupamos y calculamos el promedio de deperatura\n",
    "temperatura_por_sensor_ventana = (\n",
    "    df_parseado\n",
    "    .withWatermark(\"timestamp\", \"15 seconds\")\n",
    "    .groupby(\"key\", f.window(\"timestamp\", \"10 seconds\"))\n",
    "    .agg(f.mean(\"temperatura\"))\n",
    ")\n",
    "\n",
    "query = (\n",
    "    temperatura_por_sensor_ventana\n",
    "    .writeStream\n",
    "    .outputMode(\"update\")\n",
    "    .option(\"checkpointLocation\", f\"abfss://data@streamingclass.dfs.core.windows.net/{USUARIO}/checkpoint4\")\n",
    "    .format(\"console\")\n",
    "    .start()\n",
    ") \n",
    "\n",
    "# Esperamos 10 segundos\n",
    "sleep(30)\n",
    "\n",
    "# Finalizamos el proceso\n",
    "query.stop()"
   ]
  },
  {
   "cell_type": "markdown",
   "id": "1132ca52-4fec-4c4c-9a4f-3cee7dbef487",
   "metadata": {},
   "source": [
    "# Retos\n",
    "\n",
    "* **Escribir en un almacenamiento cada vez que un sensor tenga una temperatura mayor a 35 grados.**\n",
    "\n",
    "abfss://data@streamingclass.dfs.core.windows.net/{USUARIO}/mayor_a_35\n"
   ]
  },
  {
   "cell_type": "code",
   "execution_count": null,
   "id": "c4f060e2-22d8-4a15-b908-4d3c505d2589",
   "metadata": {},
   "outputs": [],
   "source": [
    "(\n",
    "    df_parseado\n",
    "    .filter(\"temperatura > 35\")\n",
    "    .writeStream\n",
    "    .format(\"parquet\")\n",
    "    .start(f\"abfss://data@streamingclass.dfs.core.windows.net/{USUARIO}/mayor_a_35\")\n",
    ")"
   ]
  },
  {
   "cell_type": "markdown",
   "id": "7da0e702-58f4-40d6-afa9-7e682afee83c",
   "metadata": {},
   "source": [
    "* **Publicar en Kafka cada vez que un sensor supere su variación máxima de temperatura de acuerdo a la tabla de referencia. Debe escribirse cada 10 segundos, pero esperar valores retrasados hasta 10 segundos más.**"
   ]
  },
  {
   "cell_type": "code",
   "execution_count": null,
   "id": "cda8c009-00ed-4c1b-b127-f377aaa78b46",
   "metadata": {},
   "outputs": [],
   "source": [
    "(\n",
    "    df_parseado\n",
    "    .withWatermark(\"timestamp\", \"10 seconds\")\n",
    "    .groupby(\"key\", f.window(\"timestamp\", \"10 seconds\"))\n",
    "    .agg((f.max(\"temperatura\") - f.min(\"temperatura\")).alias(\"variacion\"))\n",
    "    .join(\n",
    "        datos_referencia,\n",
    "        on=(f.col(\"Sensor\") == f.col(\"key\"))\n",
    "    )\n",
    "    .filter(\"variacion > variacion_maxima\")\n",
    "    .select(\n",
    "        f.col(\"Sensor\").alias(\"key\"),\n",
    "        f.col(\"variacion\").astype(\"string\").alias(\"value\"),\n",
    "    )\n",
    "    .writeStream\n",
    "    .format(\"kafka\")\n",
    "    .option(\"kafka.bootstrap.servers\", \"https://clase-streaming.servicebus.windows.net:9093\")\n",
    "    .option(\"kafka.sasl.mechanism\", \"PLAIN\")\n",
    "    .option(\"kafka.security.protocol\", \"SASL_SSL\")\n",
    "    .option(\"kafka.sasl.jaas.config\", JAAS_CONFIG)\n",
    "    .option(\"topic\", \"alertas\")\n",
    "    .start()\n",
    ")"
   ]
  },
  {
   "cell_type": "markdown",
   "id": "e1c24bbe-e7cd-481f-a767-f18042b1a5be",
   "metadata": {},
   "source": [
    "* **Crear un reporte que muestre cuántas veces cada sensor ha reportado un estado \"Incorrecto\" en cada minuto.**\n",
    "\n",
    "En consola\n",
    "\n"
   ]
  },
  {
   "cell_type": "code",
   "execution_count": null,
   "id": "ac9e2894-133b-48be-8b42-36b66e8f4255",
   "metadata": {},
   "outputs": [],
   "source": [
    "(\n",
    "    df_parseado\n",
    "    .withWatermark(\"timestamp\", \"10 seconds\")\n",
    "    .filter(\"estado == 'Incorrecto'\")\n",
    "    .groupby(\"key\", f.window(\"timestamp\", \"60 seconds\"))\n",
    "    .count()\n",
    "    .writeStream\n",
    "    .format(\"console\")\n",
    "    .start()\n",
    ")"
   ]
  },
  {
   "cell_type": "markdown",
   "id": "a6cb18d5-fe40-4d24-897e-4f46aff4f76a",
   "metadata": {},
   "source": [
    "* **Calcular la temperatura promedio de cada sensor durante los últimos 30 segundos, actualizando el cálculo cada 10 segundos**\n",
    "\n",
    "En consola"
   ]
  },
  {
   "cell_type": "code",
   "execution_count": null,
   "id": "747704a1-5e6c-4c46-87c9-d8adaa5a59fd",
   "metadata": {},
   "outputs": [],
   "source": [
    "(\n",
    "    df_parseado\n",
    "    .withWatermark(\"timestamp\", \"10 seconds\")\n",
    "    .groupby(\"key\", f.window(\"timestamp\", \"30 seconds\", \"10 seconds\"))\n",
    "    .agg(f.mean(\"temperatura\"))\n",
    "    .writeStream\n",
    "    .format(\"console\")\n",
    "    .start()\n",
    ")"
   ]
  }
 ],
 "metadata": {
  "kernelspec": {
   "display_name": "Python 3 (ipykernel)",
   "language": "python",
   "name": "python3"
  },
  "language_info": {
   "codemirror_mode": {
    "name": "ipython",
    "version": 3
   },
   "file_extension": ".py",
   "mimetype": "text/x-python",
   "name": "python",
   "nbconvert_exporter": "python",
   "pygments_lexer": "ipython3",
   "version": "3.11.6"
  }
 },
 "nbformat": 4,
 "nbformat_minor": 5
}
